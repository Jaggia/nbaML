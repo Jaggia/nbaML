{
 "cells": [
  {
   "cell_type": "markdown",
   "metadata": {
    "_cell_guid": "8782ba02-e42d-4897-8887-c3a31ff776a6",
    "_uuid": "21579c225a5636bfc2ac299fd7bb68f611758b91"
   },
   "source": [
    "# NBA Game Prediction Model Verson 1\n",
    "Author: Ben Thornton\n",
    "Date created: 1/4/2018\n",
    "Data: https://www.kaggle.com/pablote/nba-enhanced-stats/data, https://www.basketball-reference.com/\n",
    "\n",
    "Summary: Attempted prediction model to predict games for 17'-18' season based on games from 16'-17' season."
   ]
  },
  {
   "cell_type": "markdown",
   "metadata": {
    "_cell_guid": "d03b66f5-9405-4a58-980e-9eac58d75e58",
    "_uuid": "8cb619da585657e08439152066b02e93c453918d"
   },
   "source": [
    "# Import statements"
   ]
  },
  {
   "cell_type": "code",
   "execution_count": 18,
   "metadata": {
    "_cell_guid": "d2d7a313-659a-493d-9b4d-b29ff10dabab",
    "_uuid": "334d6d4424424146d010aa6fa1da58b7061c29ff"
   },
   "outputs": [],
   "source": [
    "import pandas as pd\n",
    "import matplotlib.pyplot as plt\n",
    "import seaborn as sns\n",
    "%matplotlib inline\n",
    "import numpy as np \n",
    "from sklearn import svm\n",
    "from sklearn.svm import LinearSVC\n",
    "from sklearn.neighbors import KNeighborsClassifier\n",
    "from sklearn.cross_validation import train_test_split\n",
    "from sklearn import metrics\n",
    "from sklearn.model_selection import cross_val_score\n",
    "from sklearn import preprocessing\n",
    "from sklearn.feature_selection import RFE\n",
    "from sklearn.ensemble import RandomForestClassifier\n",
    "from sklearn.ensemble import GradientBoostingClassifier\n",
    "import graphviz\n",
    "from sklearn import tree\n",
    "import warnings\n",
    "warnings.filterwarnings('ignore')\n",
    "import pickle"
   ]
  },
  {
   "cell_type": "markdown",
   "metadata": {
    "_cell_guid": "0c77bbf9-c722-4d89-b80d-29d7ed26212c",
    "_uuid": "23c1f8455f39cb08e1d78c94fc56f0f3d9e71fbc"
   },
   "source": [
    "# Load Data"
   ]
  },
  {
   "cell_type": "code",
   "execution_count": 19,
   "metadata": {
    "_cell_guid": "8947b63e-4db4-4bc0-bcac-de931d1e2402",
    "_uuid": "e324a8f629684850ddb16d66dfd2cea7749d11cc"
   },
   "outputs": [
    {
     "data": {
      "text/html": [
       "<div>\n",
       "<style scoped>\n",
       "    .dataframe tbody tr th:only-of-type {\n",
       "        vertical-align: middle;\n",
       "    }\n",
       "\n",
       "    .dataframe tbody tr th {\n",
       "        vertical-align: top;\n",
       "    }\n",
       "\n",
       "    .dataframe thead th {\n",
       "        text-align: right;\n",
       "    }\n",
       "</style>\n",
       "<table border=\"1\" class=\"dataframe\">\n",
       "  <thead>\n",
       "    <tr style=\"text-align: right;\">\n",
       "      <th></th>\n",
       "      <th>gmDate</th>\n",
       "      <th>gmTime</th>\n",
       "      <th>seasTyp</th>\n",
       "      <th>offLNm1</th>\n",
       "      <th>offFNm1</th>\n",
       "      <th>offLNm2</th>\n",
       "      <th>offFNm2</th>\n",
       "      <th>offLNm3</th>\n",
       "      <th>offFNm3</th>\n",
       "      <th>teamAbbr</th>\n",
       "      <th>...</th>\n",
       "      <th>opptFIC40</th>\n",
       "      <th>opptOrtg</th>\n",
       "      <th>opptDrtg</th>\n",
       "      <th>opptEDiff</th>\n",
       "      <th>opptPlay%</th>\n",
       "      <th>opptAR</th>\n",
       "      <th>opptAST/TO</th>\n",
       "      <th>opptSTL/TO</th>\n",
       "      <th>poss</th>\n",
       "      <th>pace</th>\n",
       "    </tr>\n",
       "  </thead>\n",
       "  <tbody>\n",
       "    <tr>\n",
       "      <th>0</th>\n",
       "      <td>10/25/16</td>\n",
       "      <td>8:00</td>\n",
       "      <td>Regular</td>\n",
       "      <td>Lane</td>\n",
       "      <td>Karl</td>\n",
       "      <td>Adams</td>\n",
       "      <td>Bennie</td>\n",
       "      <td>Kennedy</td>\n",
       "      <td>Bill</td>\n",
       "      <td>NY</td>\n",
       "      <td>...</td>\n",
       "      <td>84.9585</td>\n",
       "      <td>116.5653</td>\n",
       "      <td>87.6731</td>\n",
       "      <td>28.8922</td>\n",
       "      <td>0.4592</td>\n",
       "      <td>20.8951</td>\n",
       "      <td>2.0667</td>\n",
       "      <td>80.0000</td>\n",
       "      <td>100.3729</td>\n",
       "      <td>100.3729</td>\n",
       "    </tr>\n",
       "    <tr>\n",
       "      <th>1</th>\n",
       "      <td>10/25/16</td>\n",
       "      <td>8:00</td>\n",
       "      <td>Regular</td>\n",
       "      <td>Lane</td>\n",
       "      <td>Karl</td>\n",
       "      <td>Adams</td>\n",
       "      <td>Bennie</td>\n",
       "      <td>Kennedy</td>\n",
       "      <td>Bill</td>\n",
       "      <td>CLE</td>\n",
       "      <td>...</td>\n",
       "      <td>41.6667</td>\n",
       "      <td>87.6731</td>\n",
       "      <td>116.5653</td>\n",
       "      <td>-28.8922</td>\n",
       "      <td>0.3478</td>\n",
       "      <td>12.9969</td>\n",
       "      <td>0.9444</td>\n",
       "      <td>33.3333</td>\n",
       "      <td>100.3729</td>\n",
       "      <td>99.9564</td>\n",
       "    </tr>\n",
       "    <tr>\n",
       "      <th>2</th>\n",
       "      <td>10/25/16</td>\n",
       "      <td>10:00</td>\n",
       "      <td>Regular</td>\n",
       "      <td>Buchert</td>\n",
       "      <td>Nick</td>\n",
       "      <td>Callahan</td>\n",
       "      <td>Mike</td>\n",
       "      <td>Brown</td>\n",
       "      <td>Tony</td>\n",
       "      <td>UTA</td>\n",
       "      <td>...</td>\n",
       "      <td>69.6653</td>\n",
       "      <td>122.1120</td>\n",
       "      <td>112.3863</td>\n",
       "      <td>9.7257</td>\n",
       "      <td>0.4699</td>\n",
       "      <td>18.3824</td>\n",
       "      <td>1.6923</td>\n",
       "      <td>38.4615</td>\n",
       "      <td>92.5380</td>\n",
       "      <td>92.1540</td>\n",
       "    </tr>\n",
       "    <tr>\n",
       "      <th>3</th>\n",
       "      <td>10/25/16</td>\n",
       "      <td>10:00</td>\n",
       "      <td>Regular</td>\n",
       "      <td>Buchert</td>\n",
       "      <td>Nick</td>\n",
       "      <td>Callahan</td>\n",
       "      <td>Mike</td>\n",
       "      <td>Brown</td>\n",
       "      <td>Tony</td>\n",
       "      <td>POR</td>\n",
       "      <td>...</td>\n",
       "      <td>58.7137</td>\n",
       "      <td>112.3863</td>\n",
       "      <td>122.1120</td>\n",
       "      <td>-9.7257</td>\n",
       "      <td>0.4444</td>\n",
       "      <td>15.5687</td>\n",
       "      <td>1.3571</td>\n",
       "      <td>64.2857</td>\n",
       "      <td>92.5380</td>\n",
       "      <td>92.9252</td>\n",
       "    </tr>\n",
       "    <tr>\n",
       "      <th>4</th>\n",
       "      <td>10/25/16</td>\n",
       "      <td>10:30</td>\n",
       "      <td>Regular</td>\n",
       "      <td>Maddox</td>\n",
       "      <td>Tre</td>\n",
       "      <td>Fraher</td>\n",
       "      <td>Pat</td>\n",
       "      <td>Crawford</td>\n",
       "      <td>Dan</td>\n",
       "      <td>SA</td>\n",
       "      <td>...</td>\n",
       "      <td>60.7884</td>\n",
       "      <td>101.2387</td>\n",
       "      <td>130.5979</td>\n",
       "      <td>-29.3592</td>\n",
       "      <td>0.4301</td>\n",
       "      <td>18.0560</td>\n",
       "      <td>1.5000</td>\n",
       "      <td>68.7500</td>\n",
       "      <td>98.7765</td>\n",
       "      <td>98.7765</td>\n",
       "    </tr>\n",
       "  </tbody>\n",
       "</table>\n",
       "<p>5 rows × 123 columns</p>\n",
       "</div>"
      ],
      "text/plain": [
       "     gmDate gmTime  seasTyp  offLNm1 offFNm1   offLNm2 offFNm2   offLNm3  \\\n",
       "0  10/25/16   8:00  Regular     Lane    Karl     Adams  Bennie   Kennedy   \n",
       "1  10/25/16   8:00  Regular     Lane    Karl     Adams  Bennie   Kennedy   \n",
       "2  10/25/16  10:00  Regular  Buchert    Nick  Callahan    Mike     Brown   \n",
       "3  10/25/16  10:00  Regular  Buchert    Nick  Callahan    Mike     Brown   \n",
       "4  10/25/16  10:30  Regular   Maddox     Tre    Fraher     Pat  Crawford   \n",
       "\n",
       "  offFNm3 teamAbbr    ...    opptFIC40  opptOrtg  opptDrtg opptEDiff  \\\n",
       "0    Bill       NY    ...      84.9585  116.5653   87.6731   28.8922   \n",
       "1    Bill      CLE    ...      41.6667   87.6731  116.5653  -28.8922   \n",
       "2    Tony      UTA    ...      69.6653  122.1120  112.3863    9.7257   \n",
       "3    Tony      POR    ...      58.7137  112.3863  122.1120   -9.7257   \n",
       "4     Dan       SA    ...      60.7884  101.2387  130.5979  -29.3592   \n",
       "\n",
       "   opptPlay%   opptAR  opptAST/TO  opptSTL/TO      poss      pace  \n",
       "0     0.4592  20.8951      2.0667     80.0000  100.3729  100.3729  \n",
       "1     0.3478  12.9969      0.9444     33.3333  100.3729   99.9564  \n",
       "2     0.4699  18.3824      1.6923     38.4615   92.5380   92.1540  \n",
       "3     0.4444  15.5687      1.3571     64.2857   92.5380   92.9252  \n",
       "4     0.4301  18.0560      1.5000     68.7500   98.7765   98.7765  \n",
       "\n",
       "[5 rows x 123 columns]"
      ]
     },
     "execution_count": 19,
     "metadata": {},
     "output_type": "execute_result"
    }
   ],
   "source": [
    "df = pd.read_csv('../nba-enhanced-stats/2016-17_teamBoxScore.csv')\n",
    "# df = pd.read_csv(\"../2016-17_teamBoxScore.csv\")\n",
    "df.head()"
   ]
  },
  {
   "cell_type": "code",
   "execution_count": 20,
   "metadata": {
    "_cell_guid": "095b7fe8-27e4-49cf-b67c-1d60e3177aea",
    "_uuid": "4a4c397e3fbb955eb5e00ffeb4b9f0ea939c0f00"
   },
   "outputs": [
    {
     "data": {
      "text/html": [
       "<div>\n",
       "<style scoped>\n",
       "    .dataframe tbody tr th:only-of-type {\n",
       "        vertical-align: middle;\n",
       "    }\n",
       "\n",
       "    .dataframe tbody tr th {\n",
       "        vertical-align: top;\n",
       "    }\n",
       "\n",
       "    .dataframe thead th {\n",
       "        text-align: right;\n",
       "    }\n",
       "</style>\n",
       "<table border=\"1\" class=\"dataframe\">\n",
       "  <thead>\n",
       "    <tr style=\"text-align: right;\">\n",
       "      <th></th>\n",
       "      <th>gmDate</th>\n",
       "      <th>gmTime</th>\n",
       "      <th>seasTyp</th>\n",
       "      <th>offLNm1</th>\n",
       "      <th>offFNm1</th>\n",
       "      <th>offLNm2</th>\n",
       "      <th>offFNm2</th>\n",
       "      <th>offLNm3</th>\n",
       "      <th>offFNm3</th>\n",
       "      <th>teamAbbr</th>\n",
       "      <th>...</th>\n",
       "      <th>opptFIC40</th>\n",
       "      <th>opptOrtg</th>\n",
       "      <th>opptDrtg</th>\n",
       "      <th>opptEDiff</th>\n",
       "      <th>opptPlay%</th>\n",
       "      <th>opptAR</th>\n",
       "      <th>opptAST/TO</th>\n",
       "      <th>opptSTL/TO</th>\n",
       "      <th>poss</th>\n",
       "      <th>pace</th>\n",
       "    </tr>\n",
       "  </thead>\n",
       "  <tbody>\n",
       "    <tr>\n",
       "      <th>2455</th>\n",
       "      <td>4/12/17</td>\n",
       "      <td>10:30</td>\n",
       "      <td>Regular</td>\n",
       "      <td>Williams</td>\n",
       "      <td>James</td>\n",
       "      <td>Garretson</td>\n",
       "      <td>Ron</td>\n",
       "      <td>Ayotte</td>\n",
       "      <td>Mark</td>\n",
       "      <td>GS</td>\n",
       "      <td>...</td>\n",
       "      <td>51.0504</td>\n",
       "      <td>90.6779</td>\n",
       "      <td>105.1478</td>\n",
       "      <td>-14.4699</td>\n",
       "      <td>0.4100</td>\n",
       "      <td>16.4098</td>\n",
       "      <td>1.2778</td>\n",
       "      <td>72.2222</td>\n",
       "      <td>103.6636</td>\n",
       "      <td>104.0973</td>\n",
       "    </tr>\n",
       "    <tr>\n",
       "      <th>2456</th>\n",
       "      <td>4/12/17</td>\n",
       "      <td>10:30</td>\n",
       "      <td>Regular</td>\n",
       "      <td>Lane</td>\n",
       "      <td>Karl</td>\n",
       "      <td>Wall</td>\n",
       "      <td>Scott</td>\n",
       "      <td>Spooner</td>\n",
       "      <td>Bill</td>\n",
       "      <td>SAC</td>\n",
       "      <td>...</td>\n",
       "      <td>86.2033</td>\n",
       "      <td>129.7661</td>\n",
       "      <td>107.1981</td>\n",
       "      <td>22.5680</td>\n",
       "      <td>0.5513</td>\n",
       "      <td>22.4806</td>\n",
       "      <td>4.8333</td>\n",
       "      <td>66.6667</td>\n",
       "      <td>88.6210</td>\n",
       "      <td>88.6210</td>\n",
       "    </tr>\n",
       "    <tr>\n",
       "      <th>2457</th>\n",
       "      <td>4/12/17</td>\n",
       "      <td>10:30</td>\n",
       "      <td>Regular</td>\n",
       "      <td>Lane</td>\n",
       "      <td>Karl</td>\n",
       "      <td>Wall</td>\n",
       "      <td>Scott</td>\n",
       "      <td>Spooner</td>\n",
       "      <td>Bill</td>\n",
       "      <td>LAC</td>\n",
       "      <td>...</td>\n",
       "      <td>57.0833</td>\n",
       "      <td>107.1981</td>\n",
       "      <td>129.7661</td>\n",
       "      <td>-22.5680</td>\n",
       "      <td>0.4706</td>\n",
       "      <td>21.5724</td>\n",
       "      <td>2.4545</td>\n",
       "      <td>18.1818</td>\n",
       "      <td>88.6210</td>\n",
       "      <td>88.2533</td>\n",
       "    </tr>\n",
       "    <tr>\n",
       "      <th>2458</th>\n",
       "      <td>4/12/17</td>\n",
       "      <td>10:30</td>\n",
       "      <td>Regular</td>\n",
       "      <td>Guthrie</td>\n",
       "      <td>David</td>\n",
       "      <td>Adams</td>\n",
       "      <td>Bennie</td>\n",
       "      <td>Davis</td>\n",
       "      <td>Marc</td>\n",
       "      <td>NO</td>\n",
       "      <td>...</td>\n",
       "      <td>57.1875</td>\n",
       "      <td>100.9166</td>\n",
       "      <td>103.9441</td>\n",
       "      <td>-3.0275</td>\n",
       "      <td>0.4271</td>\n",
       "      <td>15.9744</td>\n",
       "      <td>0.8800</td>\n",
       "      <td>16.0000</td>\n",
       "      <td>99.0917</td>\n",
       "      <td>98.6805</td>\n",
       "    </tr>\n",
       "    <tr>\n",
       "      <th>2459</th>\n",
       "      <td>4/12/17</td>\n",
       "      <td>10:30</td>\n",
       "      <td>Regular</td>\n",
       "      <td>Guthrie</td>\n",
       "      <td>David</td>\n",
       "      <td>Adams</td>\n",
       "      <td>Bennie</td>\n",
       "      <td>Davis</td>\n",
       "      <td>Marc</td>\n",
       "      <td>POR</td>\n",
       "      <td>...</td>\n",
       "      <td>65.0415</td>\n",
       "      <td>103.9441</td>\n",
       "      <td>100.9166</td>\n",
       "      <td>3.0275</td>\n",
       "      <td>0.4444</td>\n",
       "      <td>15.3563</td>\n",
       "      <td>1.8182</td>\n",
       "      <td>118.1818</td>\n",
       "      <td>99.0917</td>\n",
       "      <td>99.0917</td>\n",
       "    </tr>\n",
       "  </tbody>\n",
       "</table>\n",
       "<p>5 rows × 123 columns</p>\n",
       "</div>"
      ],
      "text/plain": [
       "       gmDate gmTime  seasTyp   offLNm1 offFNm1    offLNm2 offFNm2  offLNm3  \\\n",
       "2455  4/12/17  10:30  Regular  Williams   James  Garretson     Ron   Ayotte   \n",
       "2456  4/12/17  10:30  Regular      Lane    Karl       Wall   Scott  Spooner   \n",
       "2457  4/12/17  10:30  Regular      Lane    Karl       Wall   Scott  Spooner   \n",
       "2458  4/12/17  10:30  Regular   Guthrie   David      Adams  Bennie    Davis   \n",
       "2459  4/12/17  10:30  Regular   Guthrie   David      Adams  Bennie    Davis   \n",
       "\n",
       "     offFNm3 teamAbbr    ...    opptFIC40  opptOrtg  opptDrtg opptEDiff  \\\n",
       "2455    Mark       GS    ...      51.0504   90.6779  105.1478  -14.4699   \n",
       "2456    Bill      SAC    ...      86.2033  129.7661  107.1981   22.5680   \n",
       "2457    Bill      LAC    ...      57.0833  107.1981  129.7661  -22.5680   \n",
       "2458    Marc       NO    ...      57.1875  100.9166  103.9441   -3.0275   \n",
       "2459    Marc      POR    ...      65.0415  103.9441  100.9166    3.0275   \n",
       "\n",
       "      opptPlay%   opptAR  opptAST/TO  opptSTL/TO      poss      pace  \n",
       "2455     0.4100  16.4098      1.2778     72.2222  103.6636  104.0973  \n",
       "2456     0.5513  22.4806      4.8333     66.6667   88.6210   88.6210  \n",
       "2457     0.4706  21.5724      2.4545     18.1818   88.6210   88.2533  \n",
       "2458     0.4271  15.9744      0.8800     16.0000   99.0917   98.6805  \n",
       "2459     0.4444  15.3563      1.8182    118.1818   99.0917   99.0917  \n",
       "\n",
       "[5 rows x 123 columns]"
      ]
     },
     "execution_count": 20,
     "metadata": {},
     "output_type": "execute_result"
    }
   ],
   "source": [
    "df.tail()"
   ]
  },
  {
   "cell_type": "code",
   "execution_count": 21,
   "metadata": {
    "_cell_guid": "f40d6c6a-9e00-4809-a362-f31954d6b2a0",
    "_uuid": "7db2469ecfb2863de818b9ef7ae00ad834041a26"
   },
   "outputs": [
    {
     "data": {
      "text/plain": [
       "(2460, 123)"
      ]
     },
     "execution_count": 21,
     "metadata": {},
     "output_type": "execute_result"
    }
   ],
   "source": [
    "df.shape"
   ]
  },
  {
   "cell_type": "code",
   "execution_count": 22,
   "metadata": {
    "_cell_guid": "ce929298-3f5c-42ed-98cd-f7ab08c73c2f",
    "_uuid": "4910b6e15e0d6c3f0f9ca9960355dae36adf54da"
   },
   "outputs": [
    {
     "data": {
      "text/plain": [
       "Index([u'gmDate', u'gmTime', u'seasTyp', u'offLNm1', u'offFNm1', u'offLNm2',\n",
       "       u'offFNm2', u'offLNm3', u'offFNm3', u'teamAbbr',\n",
       "       ...\n",
       "       u'opptFIC40', u'opptOrtg', u'opptDrtg', u'opptEDiff', u'opptPlay%',\n",
       "       u'opptAR', u'opptAST/TO', u'opptSTL/TO', u'poss', u'pace'],\n",
       "      dtype='object', length=123)"
      ]
     },
     "execution_count": 22,
     "metadata": {},
     "output_type": "execute_result"
    }
   ],
   "source": [
    "df.columns"
   ]
  },
  {
   "cell_type": "markdown",
   "metadata": {
    "_cell_guid": "2674146c-be55-4979-a4ab-d9d882b99af6",
    "_uuid": "8863e94ddba4f5de4c35ac78b517b2c0ad13dc5b"
   },
   "source": [
    "Check for missing data"
   ]
  },
  {
   "cell_type": "code",
   "execution_count": 23,
   "metadata": {
    "_cell_guid": "d425b9dd-1a5d-4261-9193-4b278790993b",
    "_uuid": "4ff5e8d801e1c20a4c039e5d8d2c8937fc8c60f1"
   },
   "outputs": [
    {
     "data": {
      "text/plain": [
       "0"
      ]
     },
     "execution_count": 23,
     "metadata": {},
     "output_type": "execute_result"
    }
   ],
   "source": [
    "df.isnull().sum().max()"
   ]
  },
  {
   "cell_type": "markdown",
   "metadata": {
    "_cell_guid": "9af7b20e-7b3f-423c-97b0-ef934a9bcd2d",
    "_uuid": "62145239d5d54ce91b07109731a5e89213237f5f"
   },
   "source": [
    "# Find correlations"
   ]
  },
  {
   "cell_type": "code",
   "execution_count": 24,
   "metadata": {
    "_cell_guid": "054c2e11-5461-46f7-97e3-28bcca633414",
    "_uuid": "b5050513fbbbc3a0582093de92a013ad583eb9e1"
   },
   "outputs": [],
   "source": [
    "#correlation matrix\n",
    "\n",
    "# corrmat = df.corr()\n",
    "# f, ax = plt.subplots(figsize=(20,18))\n",
    "# sns.heatmap(corrmat, vmax=.8, square=True)  #, annot=True)"
   ]
  },
  {
   "cell_type": "markdown",
   "metadata": {
    "_cell_guid": "b99d4625-5f33-4d7a-82b6-b5fde75fb2bf",
    "_uuid": "687943308f2595f9050687e87b47e8915dbaa743"
   },
   "source": [
    "smaller, more focused correaltion matrix; varible interest is team result"
   ]
  },
  {
   "cell_type": "code",
   "execution_count": 25,
   "metadata": {
    "_cell_guid": "f51739dc-39c4-4f6c-8589-204aafb5b893",
    "_uuid": "05f6d5817854cde91dfb503de29072abc9478c51"
   },
   "outputs": [],
   "source": [
    "# #team result\n",
    "\n",
    "# k = 9\n",
    "# cols = corrmat.nlargest(k, 'teamRslt')['teamRslt'].index\n",
    "# # print(corrmat.nlargest(k, 'teamRslt')['teamRslt'].index)\n",
    "# f, ax = plt.subplots(figsize=(10,6))\n",
    "# cm = np.corrcoef(df[cols].values.T)\n",
    "# sns.set(font_scale=1.25)\n",
    "# hm = sns.heatmap(cm, cbar=True, annot=True, square=True, fmt='.2f', \n",
    "#                  annot_kws={'size': 10}, yticklabels=cols.values, xticklabels=cols.values)\n",
    "# # plt.show()"
   ]
  },
  {
   "cell_type": "code",
   "execution_count": 26,
   "metadata": {
    "_cell_guid": "dc6f1b42-c535-4761-ad7a-eb1419851184",
    "_uuid": "fa1aa14768442ea005e6ba9961f50d625acc83d1"
   },
   "outputs": [
    {
     "data": {
      "image/png": "[encoded data removed]",
      "text/plain": [
       "<Figure size 720x432 with 2 Axes>"
      ]
     },
     "metadata": {},
     "output_type": "display_data"
    }
   ],
   "source": [
    "# #team points\n",
    "k = 12\n",
    "cols = corrmat.nlargest(k, 'teamPTS')['teamPTS'].index\n",
    "f, ax = plt.subplots(figsize=(10,6))\n",
    "cm = np.corrcoef(df[cols].values.T)\n",
    "sns.set(font_scale=1.25)\n",
    "hm = sns.heatmap(cm, cbar=True, annot=True, square=True, fmt='.2f',\n",
    "                 annot_kws={'size': 10}, yticklabels=cols.values, xticklabels=cols.values)\n",
    "# plt.show()"
   ]
  },
  {
   "cell_type": "code",
   "execution_count": 27,
   "metadata": {
    "_cell_guid": "eb09ee51-1fe4-42dd-bfc1-38eff2ae4c78",
    "_uuid": "544e4cf118f0ccbde502926b0a3925eb76084b38"
   },
   "outputs": [],
   "source": [
    "#opponent points\n",
    "\n",
    "# k = 12\n",
    "# cols = corrmat.nlargest(k, 'opptPTS')['opptPTS'].index\n",
    "# f, ax = plt.subplots(figsize=(10,6))\n",
    "# cm = np.corrcoef(df[cols].values.T)\n",
    "# sns.set(font_scale=1.25)\n",
    "# hm = sns.heatmap(cm, cbar=True, annot=True, square=True, fmt='.2f', annot_kws={'size': 10}, yticklabels=cols.values, xticklabels=cols.values)\n",
    "# # plt.show()"
   ]
  },
  {
   "cell_type": "code",
   "execution_count": 28,
   "metadata": {
    "_cell_guid": "6c0f5ad6-3c39-49c9-ac6a-959628c19862",
    "_uuid": "1119508cb06a73516a50f92edbf4968ed169ca44"
   },
   "outputs": [],
   "source": [
    "#location; h/a\n",
    "\n",
    "# k = 12\n",
    "# cols = corrmat.nlargest(k, 'teamLoc')['teamLoc'].index\n",
    "# f, ax = plt.subplots(figsize=(10,6))\n",
    "# cm = np.corrcoef(df[cols].values.T)\n",
    "# sns.set(font_scale=1.25)\n",
    "# hm = sns.heatmap(cm, cbar=True, annot=True, square=True, fmt='.2f', annot_kws={'size': 10}, yticklabels=cols.values, xticklabels=cols.values)\n",
    "# plt.show()"
   ]
  },
  {
   "cell_type": "code",
   "execution_count": 29,
   "metadata": {
    "_cell_guid": "6a7c21bb-cfc8-498b-8e3c-b19518fea6ac",
    "_uuid": "d0da92ef8707d7bb92af13a61c3354b228390f1b"
   },
   "outputs": [],
   "source": [
    "# team days off\n",
    "\n",
    "# k = 12\n",
    "# cols = corrmat.nlargest(k, 'teamDayOff')['teamDayOff'].index\n",
    "# f, ax = plt.subplots(figsize=(10,6))\n",
    "# cm = np.corrcoef(df[cols].values.T)\n",
    "# sns.set(font_scale=1.25)\n",
    "# hm = sns.heatmap(cm, cbar=True, annot=True, square=True, fmt='.2f', annot_kws={'size': 10}, yticklabels=cols.values, xticklabels=cols.values)\n",
    "# plt.show()"
   ]
  },
  {
   "cell_type": "code",
   "execution_count": 30,
   "metadata": {
    "_cell_guid": "e1f25819-afa6-45be-bd49-b71ebc40b5a6",
    "_uuid": "cf1c933481373b21fa3de25513898aa9ebb3a210"
   },
   "outputs": [],
   "source": [
    "# team turnovers\n",
    "\n",
    "# k = 12\n",
    "# cols = corrmat.nlargest(k, 'teamTO')['teamTO'].index\n",
    "# f, ax = plt.subplots(figsize=(10,6))\n",
    "# cm = np.corrcoef(df[cols].values.T)\n",
    "# sns.set(font_scale=1.25)\n",
    "# hm = sns.heatmap(cm, cbar=True, annot=True, square=True, fmt='.2f', annot_kws={'size': 10}, yticklabels=cols.values, xticklabels=cols.values)\n",
    "# plt.show()"
   ]
  },
  {
   "cell_type": "code",
   "execution_count": 31,
   "metadata": {
    "_cell_guid": "6fda774f-e95d-4fd1-b0e9-c338775da482",
    "_uuid": "981f16ca08cf3eae26cb8aedbb5e9700272977d5"
   },
   "outputs": [],
   "source": [
    "#scatter plots\n",
    "\n",
    "# cols1 = ['opptPTS', 'teamDrtg', 'teamPF', 'teamTO', 'teamORB', 'teamFGA']\n",
    "# sns.pairplot(df[cols1], size=2.5)\n",
    "# plt.show()"
   ]
  },
  {
   "cell_type": "code",
   "execution_count": 32,
   "metadata": {
    "_cell_guid": "7e236fa4-4e8a-4bac-9667-89d1dde35566",
    "_uuid": "940316a296077aed34cec3cdbe3028b301f806e1"
   },
   "outputs": [
    {
     "data": {
      "text/plain": [
       "0    Loss\n",
       "1     Win\n",
       "2    Loss\n",
       "3     Win\n",
       "4     Win\n",
       "Name: teamRslt, dtype: object"
      ]
     },
     "execution_count": 32,
     "metadata": {},
     "output_type": "execute_result"
    }
   ],
   "source": [
    "#prepare x and y\n",
    "\n",
    "feature_cols = ['teamTREB%', 'teamASST%','teamTS%',\n",
    "                'teamEFG%', 'teamOREB%', 'teamDREB%',\n",
    "                'teamTO%', 'teamSTL%', 'teamBLK%', 'teamPPS']\n",
    "x = df[feature_cols]\n",
    "y = df['teamRslt']\n",
    "y.head()"
   ]
  },
  {
   "cell_type": "markdown",
   "metadata": {
    "_cell_guid": "19f15be0-ec01-41f3-8ecf-a8685af89cf3",
    "_uuid": "50a744ab743070fa343312829dc5d3bd688c9056"
   },
   "source": [
    "# Prediciton models"
   ]
  },
  {
   "cell_type": "markdown",
   "metadata": {
    "_cell_guid": "763d7fd7-beaa-4460-9fac-305f96929c01",
    "_uuid": "13438e70e23bead0faa8c5da697cb00c3e047f91"
   },
   "source": [
    "Team result model"
   ]
  },
  {
   "cell_type": "code",
   "execution_count": 33,
   "metadata": {
    "_cell_guid": "a73be305-dc50-45c0-8f99-750c63483ac7",
    "_uuid": "58c5887091f2d0249e2aeb3645c5e1b0499c6a67"
   },
   "outputs": [],
   "source": [
    "#train test split, standardize data\n",
    "\n",
    "x_train, x_test, y_train, y_test = train_test_split(x, y , test_size=0.4, random_state=2)"
   ]
  },
  {
   "cell_type": "code",
   "execution_count": 34,
   "metadata": {
    "_cell_guid": "352864c9-0a34-43a4-b5f7-94c9575100c2",
    "_uuid": "98d8e0528267582ca4723ae04203e8c131359864"
   },
   "outputs": [
    {
     "name": "stdout",
     "output_type": "stream",
     "text": [
      "(1476, 10)\n",
      "(984, 10)\n",
      "(1476,)\n",
      "(984,)\n"
     ]
    }
   ],
   "source": [
    "print(x_train.shape)\n",
    "print(x_test.shape)\n",
    "print(y_train.shape)\n",
    "print(y_test.shape)"
   ]
  },
  {
   "cell_type": "code",
   "execution_count": 35,
   "metadata": {
    "_cell_guid": "014f2266-952a-43bd-acc7-e9c6142228a4",
    "_uuid": "b69a06aeda50724e24d1a8790c695b323cc1e835"
   },
   "outputs": [
    {
     "name": "stdout",
     "output_type": "stream",
     "text": [
      "0.6890243902439024\n",
      "[[0.6 0.4]\n",
      " [0.6 0.4]\n",
      " [0.4 0.6]\n",
      " ...\n",
      " [0.2 0.8]\n",
      " [0.6 0.4]\n",
      " [0.4 0.6]]\n"
     ]
    }
   ],
   "source": [
    "#knn \n",
    "\n",
    "knn = KNeighborsClassifier(n_neighbors=5)\n",
    "knn.fit(x_train, y_train)\n",
    "pred = knn.predict(x_test)\n",
    "print(metrics.accuracy_score(y_test, pred))\n",
    "print(knn.predict_proba(x_test))"
   ]
  },
  {
   "cell_type": "code",
   "execution_count": 36,
   "metadata": {
    "_cell_guid": "09cf8b82-e199-41ce-a7ab-f27441d5017c",
    "_uuid": "7de1ce4bf4c403076999277c569a9abd3e9f4b2f"
   },
   "outputs": [
    {
     "name": "stdout",
     "output_type": "stream",
     "text": [
      "[[ 0.2668933   0.0068105   0.09082854  0.20853638 -0.10687186 -0.11492564\n",
      "  -0.12058096  0.09218746  0.01287343  0.45736395]]\n",
      "[-1.69703382]\n",
      "0.6636178861788617\n"
     ]
    }
   ],
   "source": [
    "#linear svm\n",
    "\n",
    "clf = LinearSVC(random_state=2)\n",
    "clf.fit(x_train, y_train)\n",
    "print(clf.coef_)\n",
    "print(clf.intercept_)\n",
    "pred = (clf.predict(x_test))\n",
    "#print(pred)\n",
    "print(metrics.accuracy_score(y_test, pred))"
   ]
  },
  {
   "cell_type": "code",
   "execution_count": 37,
   "metadata": {
    "_cell_guid": "59f0b8a7-e141-4325-811d-277723ab188a",
    "_uuid": "4e7decc0f40ab78f52ec9db842d737760179767b"
   },
   "outputs": [
    {
     "data": {
      "text/plain": [
       "RandomForestClassifier(bootstrap=True, class_weight=None, criterion='gini',\n",
       "            max_depth=None, max_features='auto', max_leaf_nodes=None,\n",
       "            min_impurity_decrease=0.0, min_impurity_split=None,\n",
       "            min_samples_leaf=1, min_samples_split=2,\n",
       "            min_weight_fraction_leaf=0.0, n_estimators=10, n_jobs=1,\n",
       "            oob_score=False, random_state=None, verbose=0,\n",
       "            warm_start=False)"
      ]
     },
     "execution_count": 37,
     "metadata": {},
     "output_type": "execute_result"
    }
   ],
   "source": [
    "#random forrest classifier\n",
    "\n",
    "clf = RandomForestClassifier()\n",
    "clf.fit(x_train, y_train)"
   ]
  },
  {
   "cell_type": "code",
   "execution_count": 38,
   "metadata": {
    "_cell_guid": "09c9bf2c-1561-464d-8915-7024fc22b497",
    "_uuid": "6896ef273562e67dd8bf426e7559c905eb1b3eea"
   },
   "outputs": [
    {
     "name": "stdout",
     "output_type": "stream",
     "text": [
      "[0.15470018 0.05855917 0.11807442 0.11935356 0.05227045 0.05542572\n",
      " 0.09822776 0.07778418 0.07912499 0.18647956]\n"
     ]
    }
   ],
   "source": [
    "print(clf.feature_importances_)"
   ]
  },
  {
   "cell_type": "code",
   "execution_count": 39,
   "metadata": {
    "_cell_guid": "b929ff67-3ab4-49de-be86-9687f11849db",
    "_uuid": "c6353cd0b6e2dd01ffc5bd05550dafbef66563f7"
   },
   "outputs": [
    {
     "name": "stdout",
     "output_type": "stream",
     "text": [
      "0.7327235772357723\n"
     ]
    }
   ],
   "source": [
    "pred = clf.predict(x_test)\n",
    "#print(pred)\n",
    "#print(clf.predict_proba(x_test))\n",
    "print(metrics.accuracy_score(y_test, pred))"
   ]
  },
  {
   "cell_type": "code",
   "execution_count": 40,
   "metadata": {
    "_cell_guid": "26024ae7-421d-46a3-9943-4ba52de4cebc",
    "_uuid": "933e2932642936e184fcd15f7ecc0a6e559a3ead"
   },
   "outputs": [
    {
     "data": {
      "text/plain": [
       "0.7916666666666666"
      ]
     },
     "execution_count": 40,
     "metadata": {},
     "output_type": "execute_result"
    }
   ],
   "source": [
    "# Gradient Treee Boosting\n",
    "\n",
    "clfgtb = GradientBoostingClassifier(n_estimators=100, learning_rate=1.0, max_depth=1, random_state=0).fit(x_train, y_train)\n",
    "clfgtb.score(x_test, y_test)"
   ]
  },
  {
   "cell_type": "markdown",
   "metadata": {
    "_cell_guid": "0fce1002-3b2e-48c1-a78d-14f54ce71062",
    "_uuid": "e8c6d3f4f5061caafba269a9b4210029f30d272b"
   },
   "source": [
    "We'll use Gradient Tree Boosting"
   ]
  },
  {
   "cell_type": "markdown",
   "metadata": {
    "_cell_guid": "a62dcc72-a19c-4b6f-9fc1-772ab7198d78",
    "_uuid": "e418d9ec4348a1632d7eb149ba97adf7b64f7d7f"
   },
   "source": [
    "# Apply model to this current season"
   ]
  },
  {
   "cell_type": "code",
   "execution_count": 41,
   "metadata": {
    "_cell_guid": "c9ac76b1-3453-4aa8-bf45-f89d74b770af",
    "_uuid": "757c79fba5e8449e986e36e5c633742a755dfbf4"
   },
   "outputs": [
    {
     "data": {
      "text/html": [
       "<div>\n",
       "<style scoped>\n",
       "    .dataframe tbody tr th:only-of-type {\n",
       "        vertical-align: middle;\n",
       "    }\n",
       "\n",
       "    .dataframe tbody tr th {\n",
       "        vertical-align: top;\n",
       "    }\n",
       "\n",
       "    .dataframe thead th {\n",
       "        text-align: right;\n",
       "    }\n",
       "</style>\n",
       "<table border=\"1\" class=\"dataframe\">\n",
       "  <thead>\n",
       "    <tr style=\"text-align: right;\">\n",
       "      <th></th>\n",
       "      <th>gmDate</th>\n",
       "      <th>gmTime</th>\n",
       "      <th>seasTyp</th>\n",
       "      <th>offLNm1</th>\n",
       "      <th>offFNm1</th>\n",
       "      <th>offLNm2</th>\n",
       "      <th>offFNm2</th>\n",
       "      <th>offLNm3</th>\n",
       "      <th>offFNm3</th>\n",
       "      <th>teamAbbr</th>\n",
       "      <th>...</th>\n",
       "      <th>opptFIC40</th>\n",
       "      <th>opptOrtg</th>\n",
       "      <th>opptDrtg</th>\n",
       "      <th>opptEDiff</th>\n",
       "      <th>opptPlay%</th>\n",
       "      <th>opptAR</th>\n",
       "      <th>opptAST/TO</th>\n",
       "      <th>opptSTL/TO</th>\n",
       "      <th>poss</th>\n",
       "      <th>pace</th>\n",
       "    </tr>\n",
       "  </thead>\n",
       "  <tbody>\n",
       "    <tr>\n",
       "      <th>0</th>\n",
       "      <td>2017-10-17</td>\n",
       "      <td>08:00</td>\n",
       "      <td>Regular</td>\n",
       "      <td>Forte</td>\n",
       "      <td>Brian</td>\n",
       "      <td>Smith</td>\n",
       "      <td>Michael</td>\n",
       "      <td>McCutchen</td>\n",
       "      <td>Monty</td>\n",
       "      <td>BOS</td>\n",
       "      <td>...</td>\n",
       "      <td>55.5208</td>\n",
       "      <td>101.7143</td>\n",
       "      <td>98.7227</td>\n",
       "      <td>2.9916</td>\n",
       "      <td>0.4176</td>\n",
       "      <td>14.6154</td>\n",
       "      <td>1.1176</td>\n",
       "      <td>17.6471</td>\n",
       "      <td>100.2809</td>\n",
       "      <td>99.8648</td>\n",
       "    </tr>\n",
       "    <tr>\n",
       "      <th>1</th>\n",
       "      <td>2017-10-17</td>\n",
       "      <td>08:00</td>\n",
       "      <td>Regular</td>\n",
       "      <td>Forte</td>\n",
       "      <td>Brian</td>\n",
       "      <td>Smith</td>\n",
       "      <td>Michael</td>\n",
       "      <td>McCutchen</td>\n",
       "      <td>Monty</td>\n",
       "      <td>CLE</td>\n",
       "      <td>...</td>\n",
       "      <td>62.5519</td>\n",
       "      <td>98.7227</td>\n",
       "      <td>101.7143</td>\n",
       "      <td>-2.9916</td>\n",
       "      <td>0.3956</td>\n",
       "      <td>17.7778</td>\n",
       "      <td>2.0000</td>\n",
       "      <td>91.6667</td>\n",
       "      <td>100.2809</td>\n",
       "      <td>100.2809</td>\n",
       "    </tr>\n",
       "    <tr>\n",
       "      <th>2</th>\n",
       "      <td>2017-10-17</td>\n",
       "      <td>10:30</td>\n",
       "      <td>Regular</td>\n",
       "      <td>Maddox</td>\n",
       "      <td>Tre</td>\n",
       "      <td>Garretson</td>\n",
       "      <td>Ron</td>\n",
       "      <td>Foster</td>\n",
       "      <td>Scott</td>\n",
       "      <td>HOU</td>\n",
       "      <td>...</td>\n",
       "      <td>86.2033</td>\n",
       "      <td>118.0353</td>\n",
       "      <td>119.0108</td>\n",
       "      <td>-0.9755</td>\n",
       "      <td>0.4725</td>\n",
       "      <td>24.2442</td>\n",
       "      <td>2.0000</td>\n",
       "      <td>29.4118</td>\n",
       "      <td>102.5117</td>\n",
       "      <td>102.9406</td>\n",
       "    </tr>\n",
       "    <tr>\n",
       "      <th>3</th>\n",
       "      <td>2017-10-17</td>\n",
       "      <td>10:30</td>\n",
       "      <td>Regular</td>\n",
       "      <td>Maddox</td>\n",
       "      <td>Tre</td>\n",
       "      <td>Garretson</td>\n",
       "      <td>Ron</td>\n",
       "      <td>Foster</td>\n",
       "      <td>Scott</td>\n",
       "      <td>GS</td>\n",
       "      <td>...</td>\n",
       "      <td>81.9038</td>\n",
       "      <td>119.0108</td>\n",
       "      <td>118.0353</td>\n",
       "      <td>0.9755</td>\n",
       "      <td>0.4700</td>\n",
       "      <td>19.1309</td>\n",
       "      <td>2.1538</td>\n",
       "      <td>69.2308</td>\n",
       "      <td>102.5117</td>\n",
       "      <td>102.0863</td>\n",
       "    </tr>\n",
       "    <tr>\n",
       "      <th>4</th>\n",
       "      <td>2017-10-18</td>\n",
       "      <td>07:00</td>\n",
       "      <td>Regular</td>\n",
       "      <td>Davis</td>\n",
       "      <td>Marc</td>\n",
       "      <td>Boland</td>\n",
       "      <td>Matt</td>\n",
       "      <td>DeRosa</td>\n",
       "      <td>Joe</td>\n",
       "      <td>CHA</td>\n",
       "      <td>...</td>\n",
       "      <td>70.7113</td>\n",
       "      <td>103.0506</td>\n",
       "      <td>90.9270</td>\n",
       "      <td>12.1236</td>\n",
       "      <td>0.4271</td>\n",
       "      <td>17.8731</td>\n",
       "      <td>2.6667</td>\n",
       "      <td>155.5556</td>\n",
       "      <td>98.9805</td>\n",
       "      <td>99.8123</td>\n",
       "    </tr>\n",
       "  </tbody>\n",
       "</table>\n",
       "<p>5 rows × 123 columns</p>\n",
       "</div>"
      ],
      "text/plain": [
       "       gmDate gmTime  seasTyp offLNm1 offFNm1    offLNm2  offFNm2    offLNm3  \\\n",
       "0  2017-10-17  08:00  Regular   Forte   Brian      Smith  Michael  McCutchen   \n",
       "1  2017-10-17  08:00  Regular   Forte   Brian      Smith  Michael  McCutchen   \n",
       "2  2017-10-17  10:30  Regular  Maddox     Tre  Garretson      Ron     Foster   \n",
       "3  2017-10-17  10:30  Regular  Maddox     Tre  Garretson      Ron     Foster   \n",
       "4  2017-10-18  07:00  Regular   Davis    Marc     Boland     Matt     DeRosa   \n",
       "\n",
       "  offFNm3 teamAbbr    ...    opptFIC40  opptOrtg  opptDrtg opptEDiff  \\\n",
       "0   Monty      BOS    ...      55.5208  101.7143   98.7227    2.9916   \n",
       "1   Monty      CLE    ...      62.5519   98.7227  101.7143   -2.9916   \n",
       "2   Scott      HOU    ...      86.2033  118.0353  119.0108   -0.9755   \n",
       "3   Scott       GS    ...      81.9038  119.0108  118.0353    0.9755   \n",
       "4     Joe      CHA    ...      70.7113  103.0506   90.9270   12.1236   \n",
       "\n",
       "   opptPlay%   opptAR  opptAST/TO  opptSTL/TO      poss      pace  \n",
       "0     0.4176  14.6154      1.1176     17.6471  100.2809   99.8648  \n",
       "1     0.3956  17.7778      2.0000     91.6667  100.2809  100.2809  \n",
       "2     0.4725  24.2442      2.0000     29.4118  102.5117  102.9406  \n",
       "3     0.4700  19.1309      2.1538     69.2308  102.5117  102.0863  \n",
       "4     0.4271  17.8731      2.6667    155.5556   98.9805   99.8123  \n",
       "\n",
       "[5 rows x 123 columns]"
      ]
     },
     "execution_count": 41,
     "metadata": {},
     "output_type": "execute_result"
    }
   ],
   "source": [
    "df2 = pd.read_csv(\"../nba-enhanced-stats/2017-18_teamBoxScore.csv\")\n",
    "df2.head()"
   ]
  },
  {
   "cell_type": "markdown",
   "metadata": {
    "_cell_guid": "4e6a98bf-a502-4aed-9617-587b205eee80",
    "_uuid": "5e14b563311a201d0291e184922a2e7df7e51232"
   },
   "source": [
    "Lets see how the new data tests."
   ]
  },
  {
   "cell_type": "code",
   "execution_count": null,
   "metadata": {
    "_cell_guid": "960ab26b-5c83-4ca4-a0f2-3d0ae3a27291",
    "_uuid": "8915222e173edcc98743b103c8adba974c7441db"
   },
   "outputs": [
    {
     "data": {
      "text/plain": [
       "0    Loss\n",
       "1     Win\n",
       "2    Loss\n",
       "3     Win\n",
       "4     Win\n",
       "Name: teamRslt, dtype: object"
      ]
     },
     "execution_count": 42,
     "metadata": {},
     "output_type": "execute_result"
    }
   ],
   "source": [
    "#prepare x and y\n",
    "\n",
    "new_feature_cols = ['teamTREB%', 'teamASST%','teamTS%',\n",
    "                'teamEFG%', 'teamOREB%', 'teamDREB%',\n",
    "                'teamTO%', 'teamSTL%', 'teamBLK%', 'teamPPS']\n",
    "x_new = df2[new_feature_cols]\n",
    "y_new = df2['teamRslt']\n",
    "x.head()\n",
    "y.head()"
   ]
  },
  {
   "cell_type": "code",
   "execution_count": 57,
   "metadata": {},
   "outputs": [
    {
     "name": "stdout",
     "output_type": "stream",
     "text": [
      "0.7666666666666667\n",
      "[['teamTS%' '0.18647956081735553']\n",
      " ['teamTREB%' '0.15470017910825445']\n",
      " ['teamTO%' '0.11935355546140887']\n",
      " ['teamSTL%' '0.11807442068445995']\n",
      " ['teamPPS' '0.09822776374494542']\n",
      " ['teamOREB%' '0.07912499025704148']\n",
      " ['teamEFG%' '0.07778418472598517']\n",
      " ['teamDREB%' '0.058559174944532374']\n",
      " ['teamBLK%' '0.05542571970798839']\n",
      " ['teamASST%' '0.052270450548028355']]\n"
     ]
    }
   ],
   "source": [
    "pred = clf.predict(x_new)\n",
    "print(metrics.accuracy_score(y_new, pred))\n",
    "feat_imp = np.stack([new_feature_cols, clf.feature_importances_], axis=1)\n",
    "print(np.sort(feat_imp, axis=0)[::-1])"
   ]
  },
  {
   "cell_type": "code",
   "execution_count": 60,
   "metadata": {
    "_cell_guid": "31d37771-b9e3-47ff-a822-91ae5cf6273e",
    "_uuid": "efcb113db1a7f0fa4a376492b92325fc7f87b493"
   },
   "outputs": [
    {
     "name": "stdout",
     "output_type": "stream",
     "text": [
      "0.8142276422764227\n",
      "[['teamTS%' '0.27']\n",
      " ['teamTREB%' '0.14']\n",
      " ['teamTO%' '0.14']\n",
      " ['teamSTL%' '0.1']\n",
      " ['teamPPS' '0.1']\n",
      " ['teamOREB%' '0.08']\n",
      " ['teamEFG%' '0.07']\n",
      " ['teamDREB%' '0.05']\n",
      " ['teamBLK%' '0.03']\n",
      " ['teamASST%' '0.02']]\n"
     ]
    }
   ],
   "source": [
    "# gradient tree boosting\n",
    "\n",
    "clfgtb = GradientBoostingClassifier(n_estimators=100, learning_rate=1.0, max_depth=1, random_state=0).fit(x, y)\n",
    "print(clfgtb.score(x_new, y_new))\n",
    "feature_importances = np.stack([new_feature_cols, clfgtb.feature_importances_], axis=1)\n",
    "print(np.sort(feature_importances, axis=0)[::-1])"
   ]
  },
  {
   "cell_type": "markdown",
   "metadata": {
    "_cell_guid": "06aa72fe-ce71-4f8d-a943-2a3c57be4f6c",
    "_uuid": "49bbadbb5f80ea2005c94236dac1bd1f016749e3"
   },
   "source": [
    "Save the model for future use."
   ]
  },
  {
   "cell_type": "code",
   "execution_count": 45,
   "metadata": {
    "_cell_guid": "4df83146-c6ae-495c-bc71-589f08ed290f",
    "_uuid": "2edb8d3d2b8af1e5187b666e596e2847934850f8"
   },
   "outputs": [],
   "source": [
    "filename = 'nba_pred_modelv1.sav'\n",
    "pickle.dump(clfgtb, open(filename, 'wb'))"
   ]
  },
  {
   "cell_type": "markdown",
   "metadata": {
    "_cell_guid": "86d4abd7-028c-4a4c-a1d3-c8b4fb0b0cbc",
    "_uuid": "0039b9c84cb6a55c3c4e837ee65ea72eda4763c3"
   },
   "source": [
    "# Game predictions for 1/5/18"
   ]
  },
  {
   "cell_type": "code",
   "execution_count": null,
   "metadata": {
    "_cell_guid": "0923668d-51e7-421c-b85c-9f4b16f93b02",
    "_uuid": "30030005d5ddf695485a2402cd4246e1bdcea727"
   },
   "outputs": [],
   "source": [
    "#games\n",
    "games = ['PHX1 vs SAS2', 'DET1 vs PHI2', 'MIN1 vs BOS2', 'NY1 vs MIA2', 'TOR1 vs MIL2', 'CHI1 vs DAL2', 'UTA1 vs DEN2', 'WSH1 vs MEM2', 'ATL1 vs POR2', 'CHA1 vs LAL2']\n",
    "\n",
    "g1 = [[101.3, 111.9, 22.3, 15.9, 11.3, 87.1]]\n",
    "g2 = [[108.4, 106.7, 18.7, 14.4, 10.3, 86.0]]\n",
    "g3 = [[103.4, 109.8, 18.0, 13.2, 10.3, 84.8]]\n",
    "g4 = [[102.2, 108.0, 20.8, 15.3, 10.8, 86.0]]\n",
    "g5 = [[105.9, 105.4, 22.1, 13.9, 9.4, 86.5]]\n",
    "g6 = [[101.6, 108.7, 19.2, 13.8, 9.4, 88.6]]\n",
    "g7 = [[107.9, 106.8, 20.1, 14.4, 8.4, 82.4]]\n",
    "g8 = [[98.9, 106.4, 21.7, 13.7, 9.9, 86.1]]\n",
    "g9 = [[102.5, 110.9, 19.7, 15.5, 9.5, 84.7]]\n",
    "g10 = [[106.7, 107.4, 18.1, 13.1, 10.5, 86.4]]"
   ]
  },
  {
   "cell_type": "code",
   "execution_count": null,
   "metadata": {
    "_cell_guid": "14f12607-02b2-4ae9-bfd4-288e9fd1723a",
    "_uuid": "5a95f2f796d4b25bd19d59c7abc55dd3537752dd"
   },
   "outputs": [],
   "source": [
    "nba_pred_modelv1 = pickle.load(open(filename, 'rb'))"
   ]
  },
  {
   "cell_type": "code",
   "execution_count": null,
   "metadata": {
    "_cell_guid": "f4640947-49b7-4eed-a1ae-c84ed7bf1a83",
    "_uuid": "6281a5b267692cb4a82a55dfa318a936a960e416"
   },
   "outputs": [],
   "source": [
    "pred1 = nba_pred_modelv1.predict(g1)\n",
    "prob1 = nba_pred_modelv1.predict_proba(g1)\n",
    "print(pred1)\n",
    "print(prob1)"
   ]
  },
  {
   "cell_type": "code",
   "execution_count": null,
   "metadata": {
    "_cell_guid": "09bbf53c-2126-4538-8775-8f5bec409d32",
    "_uuid": "abfbfff5b61d14b1e10fff5493e81535ccff0ce7"
   },
   "outputs": [],
   "source": [
    "pred2 = nba_pred_modelv1.predict(g2)\n",
    "prob2 = nba_pred_modelv1.predict_proba(g2)\n",
    "print(pred2)\n",
    "print(prob2)"
   ]
  },
  {
   "cell_type": "code",
   "execution_count": null,
   "metadata": {
    "_cell_guid": "15fc2da5-fb85-436a-a5ce-3ecba76296a9",
    "_uuid": "4784db6f1db52b6fc9113037cb7ff6dee77e3264"
   },
   "outputs": [],
   "source": [
    "pred3 = nba_pred_modelv1.predict(g3)\n",
    "prob3 = nba_pred_modelv1.predict_proba(g3)\n",
    "print(pred3)\n",
    "print(prob3)"
   ]
  },
  {
   "cell_type": "code",
   "execution_count": null,
   "metadata": {
    "_cell_guid": "470aebd3-5b9e-4385-895f-1d948382d27a",
    "_uuid": "c02879564f6df0f0c458c9e2704b316e55d29c96"
   },
   "outputs": [],
   "source": [
    "pred4 = nba_pred_modelv1.predict(g4)\n",
    "prob4 = nba_pred_modelv1.predict_proba(g4)\n",
    "print(pred4)\n",
    "print(prob4)"
   ]
  },
  {
   "cell_type": "code",
   "execution_count": null,
   "metadata": {
    "_cell_guid": "6f1988ac-6211-447c-88ef-8d29a7d350d4",
    "_uuid": "b6c071818f1a800d10805c74279faa73d812f033"
   },
   "outputs": [],
   "source": [
    "pred5 = nba_pred_modelv1.predict(g5)\n",
    "prob5 = nba_pred_modelv1.predict_proba(g5)\n",
    "print(pred5)\n",
    "print(prob5)"
   ]
  },
  {
   "cell_type": "code",
   "execution_count": null,
   "metadata": {
    "_cell_guid": "3e8180b2-0d0a-4f8f-a4ba-d29a93bcd68a",
    "_uuid": "fbc7324af4dedf65b4bdfeaf5ba72850a8eebb1d"
   },
   "outputs": [],
   "source": [
    "pred6 = nba_pred_modelv1.predict(g6)\n",
    "prob6 = nba_pred_modelv1.predict_proba(g6)\n",
    "print(pred6)\n",
    "print(prob6)"
   ]
  },
  {
   "cell_type": "code",
   "execution_count": null,
   "metadata": {
    "_cell_guid": "4ffa6bf5-edb3-447d-9625-89d12d1c8048",
    "_uuid": "5d9a13b68ea12e6f8c8ccffc72bca10da497cdf9"
   },
   "outputs": [],
   "source": [
    "pred7 = nba_pred_modelv1.predict(g7)\n",
    "prob7 = nba_pred_modelv1.predict_proba(g7)\n",
    "print(pred7)\n",
    "print(prob7)"
   ]
  },
  {
   "cell_type": "code",
   "execution_count": null,
   "metadata": {
    "_cell_guid": "3d208200-e3c7-4e6a-8fca-e47c5461d897",
    "_uuid": "f0c81a3ea70b5ae94d577d8b095b93c3cd8d3a07"
   },
   "outputs": [],
   "source": [
    "pred8 = nba_pred_modelv1.predict(g8)\n",
    "prob8 = nba_pred_modelv1.predict_proba(g8)\n",
    "print(pred8)\n",
    "print(prob8)"
   ]
  },
  {
   "cell_type": "code",
   "execution_count": null,
   "metadata": {
    "_cell_guid": "f4b8a5dd-c9b7-41aa-9a4b-90494811479c",
    "_uuid": "429131a34234fba90fba98e879387cd37c47fa1a"
   },
   "outputs": [],
   "source": [
    "pred9 = nba_pred_modelv1.predict(g9)\n",
    "prob9 = nba_pred_modelv1.predict_proba(g9)\n",
    "print(pred9)\n",
    "print(prob9)"
   ]
  },
  {
   "cell_type": "code",
   "execution_count": null,
   "metadata": {
    "_cell_guid": "549d68cb-72dc-490f-a22e-a45e18a02ea8",
    "_uuid": "cb2a45cd912bf9ad43d715cb4c95172585f8a765"
   },
   "outputs": [],
   "source": [
    "pred10 = nba_pred_modelv1.predict(g10)\n",
    "prob10 = nba_pred_modelv1.predict_proba(g10)\n",
    "print(pred10)\n",
    "print(prob10)"
   ]
  },
  {
   "cell_type": "code",
   "execution_count": null,
   "metadata": {
    "_cell_guid": "908570cd-a43c-44d7-a37d-5a3e07c91548",
    "_uuid": "66274a1bc93fdb941488ad295cf1cef0a31e8e31"
   },
   "outputs": [],
   "source": [
    "d = {'Game': games, 'Prediction':[pred1, pred2, pred3, pred4, pred5, pred6, pred7, pred8, pred9, pred10], 'Probability (1, 2)': [prob1, prob2, prob3, prob4, prob5, prob6, prob7, prob8, prob9, prob10], 'Actual Result': [2 , 2, 2, 1, 1, 1, 2, 1, 2, 1]}\n",
    "df3 = pd.DataFrame(data = d)\n",
    "df3"
   ]
  },
  {
   "cell_type": "markdown",
   "metadata": {
    "_cell_guid": "a8db2b3b-4dee-49b1-b63c-09154b7f8fe9",
    "_uuid": "284fb7e2e640a49ab88d795d77a53aa9517a4104"
   },
   "source": [
    "5/10 games predicted correctly."
   ]
  },
  {
   "cell_type": "code",
   "execution_count": null,
   "metadata": {
    "_cell_guid": "716881e9-9605-4796-8a0d-17888932edbb",
    "_uuid": "70639f36aa42804a3f8d95e4416a940b82e10dd3"
   },
   "outputs": [],
   "source": []
  }
 ],
 "metadata": {
  "kernelspec": {
   "display_name": "Python 2",
   "language": "python",
   "name": "python2"
  },
  "language_info": {
   "codemirror_mode": {
    "name": "ipython",
    "version": 2
   },
   "file_extension": ".py",
   "mimetype": "text/x-python",
   "name": "python",
   "nbconvert_exporter": "python",
   "pygments_lexer": "ipython2",
   "version": "2.7.10"
  }
 },
 "nbformat": 4,
 "nbformat_minor": 1
}
